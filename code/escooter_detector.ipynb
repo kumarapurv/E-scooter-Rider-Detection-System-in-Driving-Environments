{
  "nbformat": 4,
  "nbformat_minor": 0,
  "metadata": {
    "colab": {
      "name": "escooter_detector",
      "provenance": [],
      "collapsed_sections": []
    },
    "kernelspec": {
      "name": "python3",
      "display_name": "Python 3"
    }
  },
  "cells": [
    {
      "cell_type": "code",
      "metadata": {
        "id": "6oqn4xDOZLaO",
        "colab": {
          "base_uri": "https://localhost:8080/"
        },
        "outputId": "ddf41126-3246-4b54-f5d6-7419bff3fea8"
      },
      "source": [
        "from google.colab import drive\n",
        "drive.mount(\"/content/gdrive\")"
      ],
      "execution_count": null,
      "outputs": [
        {
          "output_type": "stream",
          "text": [
            "Mounted at /content/gdrive\n"
          ],
          "name": "stdout"
        }
      ]
    },
    {
      "cell_type": "code",
      "metadata": {
        "id": "N5-YL4IjZs3t"
      },
      "source": [
        "import tensorflow as tf\n",
        "import os\n",
        "import cv2\n",
        "import time\n",
        "import glob\n",
        "import math\n",
        "import re\n",
        "from PIL import Image\n",
        "from matplotlib import pyplot as plt\n",
        "%matplotlib inline\n",
        "\n",
        "import imutils as imutils\n",
        "import numpy as np # linear algebra\n",
        "import pandas as pd # data processing, CSV file I/O (e.g. pd.read_csv)\n",
        "import tensorflow as tf # machine learning\n",
        "from tqdm import tqdm # make your loops show a smart progress meter \n",
        "import matplotlib.pyplot as plt\n",
        "import matplotlib.image as mpimg\n",
        "from sklearn.metrics import accuracy_score, confusion_matrix, classification_report\n",
        "import seaborn as sn\n",
        "from sklearn.metrics import roc_curve, roc_auc_score"
      ],
      "execution_count": null,
      "outputs": []
    },
    {
      "cell_type": "code",
      "metadata": {
        "id": "DFPHIk1zJ6IH"
      },
      "source": [
        "from keras.models import model_from_json"
      ],
      "execution_count": null,
      "outputs": []
    },
    {
      "cell_type": "code",
      "metadata": {
        "id": "hyGmJH7SKb4H"
      },
      "source": [
        "DATADIR = \"/content/gdrive/My Drive/thesis/\""
      ],
      "execution_count": null,
      "outputs": []
    },
    {
      "cell_type": "code",
      "metadata": {
        "colab": {
          "base_uri": "https://localhost:8080/"
        },
        "id": "-oJ1n8vpJj2u",
        "outputId": "8615542c-ba6e-4f6e-88ce-c9e300fa2b27"
      },
      "source": [
        "# load json and create model\n",
        "json_file = open(\"/content/gdrive/My Drive/thesis/Model_5/cnn_3_1_results/model.json\", 'r')\n",
        "loaded_model_json = json_file.read()\n",
        "json_file.close()\n",
        "loaded_model = model_from_json(loaded_model_json)\n",
        "# load weights into new model\n",
        "loaded_model.load_weights(\"/content/gdrive/My Drive/thesis/Model_5/cnn_3_1_results/model.h5\")\n",
        "print(\"Loaded model from disk\")\n",
        "\n",
        "# evaluate loaded model on test data\n",
        "# loaded_model.compile(loss='binary_crossentropy', optimizer='rmsprop', metrics=['accuracy'])\n",
        "loaded_model.compile(optimizer='adam',loss='binary_crossentropy',metrics=['accuracy'])"
      ],
      "execution_count": null,
      "outputs": [
        {
          "output_type": "stream",
          "text": [
            "Loaded model from disk\n"
          ],
          "name": "stdout"
        }
      ]
    },
    {
      "cell_type": "markdown",
      "metadata": {
        "id": "lWf0JSZ48L9R"
      },
      "source": [
        "rest of pipeline"
      ]
    },
    {
      "cell_type": "code",
      "metadata": {
        "id": "VtQU1gCH5f-0"
      },
      "source": [
        "DATADIR = \"/content/gdrive/My Drive/thesis/\""
      ],
      "execution_count": null,
      "outputs": []
    },
    {
      "cell_type": "markdown",
      "metadata": {
        "id": "uaqE9bac8Du5"
      },
      "source": [
        "getting image data from the directory"
      ]
    },
    {
      "cell_type": "code",
      "metadata": {
        "id": "9Zo1AW4O4xlL"
      },
      "source": [
        "# to sort the files by their frame number\n",
        "def tryint(s):\n",
        "    try:\n",
        "        return int(s)\n",
        "    except ValueError:\n",
        "        return s\n",
        "    \n",
        "def alphanum_key(s):\n",
        "    return [ tryint(c) for c in re.split('([0-9]+)', s) ]\n",
        "\n",
        "def sort_nicely(l):\n",
        "    l.sort(key=alphanum_key)"
      ],
      "execution_count": null,
      "outputs": []
    },
    {
      "cell_type": "code",
      "metadata": {
        "id": "Ld1Gp5WB6dwN"
      },
      "source": [
        "# returns filenames from the folder path\n",
        "def get_all_camera_files(img_dir):\n",
        "  data_path = os.path.join(img_dir,'*g')\n",
        "  files = glob.glob(data_path)\n",
        "  sort_nicely(files)\n",
        "\n",
        "  return files\n",
        "\n",
        "img_dir = DATADIR + 'paper_results/'\n",
        "filenames = get_all_camera_files(img_dir)"
      ],
      "execution_count": null,
      "outputs": []
    },
    {
      "cell_type": "code",
      "metadata": {
        "colab": {
          "base_uri": "https://localhost:8080/"
        },
        "id": "RhRVSBzp89cb",
        "outputId": "6e4ffe64-8d06-4e5a-f327-f989b192d02a"
      },
      "source": [
        "len(filenames)"
      ],
      "execution_count": null,
      "outputs": [
        {
          "output_type": "execute_result",
          "data": {
            "text/plain": [
              "55"
            ]
          },
          "metadata": {
            "tags": []
          },
          "execution_count": 13
        }
      ]
    },
    {
      "cell_type": "markdown",
      "metadata": {
        "id": "jqc1kVWN8ZBD"
      },
      "source": [
        "YOLO for bounding boxes"
      ]
    },
    {
      "cell_type": "code",
      "metadata": {
        "id": "7ONrNFwI7-F_"
      },
      "source": [
        "coco_list = [0]#, 2, 5, 7] # person, car, bus, truck"
      ],
      "execution_count": null,
      "outputs": []
    },
    {
      "cell_type": "code",
      "metadata": {
        "id": "tJK8QcVO8hn-"
      },
      "source": [
        "# filepath for the dependent files; this will change based on the original file path\n",
        "yolomodel = {\"config_path\": \"/content/gdrive/My Drive/thesis/YOLO/yolov3.cfg\",\n",
        "              \"model_weights_path\": \"/content/gdrive/My Drive/thesis/YOLO/yolov3.weights\",\n",
        "              \"coco_names\": \"/content/gdrive/My Drive/thesis/YOLO/coco.names\",\n",
        "              \"confidence_threshold\": 0.7,\n",
        "              \"threshold\":0.3\n",
        "             }\n",
        "\n",
        "net = cv2.dnn.readNetFromDarknet(yolomodel[\"config_path\"], yolomodel[\"model_weights_path\"])\n",
        "labels = open(yolomodel[\"coco_names\"]).read().strip().split(\"\\n\")"
      ],
      "execution_count": null,
      "outputs": []
    },
    {
      "cell_type": "code",
      "metadata": {
        "colab": {
          "base_uri": "https://localhost:8080/"
        },
        "id": "iYJ4K9qKqqM8",
        "outputId": "357d5cea-6700-4687-dffb-805475143a4f"
      },
      "source": [
        "len(net.getLayerNames())"
      ],
      "execution_count": null,
      "outputs": [
        {
          "output_type": "execute_result",
          "data": {
            "text/plain": [
              "254"
            ]
          },
          "metadata": {
            "tags": []
          },
          "execution_count": 17
        }
      ]
    },
    {
      "cell_type": "code",
      "metadata": {
        "id": "G4vTkTPR976L"
      },
      "source": [
        "np.random.seed(12345)\n",
        "layer_names = net.getLayerNames()\n",
        "layer_names = [layer_names[i[0]-1] for i in net.getUnconnectedOutLayers()]"
      ],
      "execution_count": null,
      "outputs": []
    },
    {
      "cell_type": "code",
      "metadata": {
        "id": "pipVBYOE-D17"
      },
      "source": [
        "# returns the bounding box details along with the bounding box displayed on the frame\n",
        "def object_detection(frame):\n",
        "    global coco_list\n",
        "    (H, W) = frame.shape[:2]\n",
        "    \n",
        "    blob = cv2.dnn.blobFromImage(frame, 1 / 255.0, (416, 416), swapRB=True, crop=False)\n",
        "    net.setInput(blob)\n",
        "    detections_layer = net.forward(layer_names)   # detect objects using object detection model\n",
        "    \n",
        "    boxes, confidences, classIDs = [], [], []\n",
        "    for out in detections_layer:\n",
        "        for detection in out:\n",
        "            scores = detection[5:]\n",
        "            classID = np.argmax(scores)\n",
        "            if classID not in coco_list:\n",
        "                continue\n",
        "            confidence = scores[classID]\n",
        "            \n",
        "            if confidence > yolomodel['confidence_threshold']:\n",
        "                box = detection[0:4] * np.array([W, H, W, H])\n",
        "                (centerX, centerY, width, height) = box.astype(\"int\")\n",
        "                x = int(centerX - (width / 2))\n",
        "                y = int(centerY - (height / 2))\n",
        "                \n",
        "                boxes.append([x, y, int(width), int(height)])\n",
        "                confidences.append(float(confidence))\n",
        "                classIDs.append(classID)\n",
        "    \n",
        "    idxs = cv2.dnn.NMSBoxes(boxes, confidences, yolomodel[\"confidence_threshold\"], yolomodel[\"threshold\"])\n",
        "    \n",
        "    nms_boxes = []\n",
        "    nms_confidences = []\n",
        "    nms_classIDs = []\n",
        "    \n",
        "    if len(idxs) > 0:\n",
        "        for i in idxs.flatten():\n",
        "            (x, y) = (boxes[i][0], boxes[i][1])\n",
        "            (w, h) = (boxes[i][2], boxes[i][3])\n",
        "                        \n",
        "            # clr = [int(c) for c in bbox_colors[classIDs[i]]]\n",
        "            # cv2.rectangle(frame, (x, y), (x+w, y+h), clr, 2)\n",
        "            nms_boxes.append([x, y, w, h])\n",
        "            nms_confidences.append(confidences[i])\n",
        "            nms_classIDs.append(classIDs[i])\n",
        "            \n",
        "    return nms_boxes, nms_confidences, nms_classIDs"
      ],
      "execution_count": null,
      "outputs": []
    },
    {
      "cell_type": "code",
      "metadata": {
        "id": "C9crEClSpIqL"
      },
      "source": [
        "def plot_boxes(frame, detections):\n",
        "    for i in range(len(detections)):\n",
        "      bbox = detections[i]\n",
        "      [x, y, w, h] = bbox\n",
        "      clr=(255,255,255)\n",
        "      cv2.rectangle(frame, (x, y), (x+w, y+h), clr, 3)\n",
        "    return frame"
      ],
      "execution_count": null,
      "outputs": []
    },
    {
      "cell_type": "code",
      "metadata": {
        "id": "uHQlLQRvq9fP"
      },
      "source": [
        "def enlarge_bounding_boxes(orig_bboxes):\n",
        "    modf_bboxes = []\n",
        "    for bbox in orig_bboxes:\n",
        "        [x1, y1, w1, h1] = bbox\n",
        "        [x2, y2, w2, h2] = [x1-w1, y1, 3*w1, h1+h1//4]\n",
        "        if x2<0: x2=0\n",
        "        if y2<0: y2=0\n",
        "        \n",
        "        modf_bboxes.append([x2, y2, w2, h2])\n",
        "    return modf_bboxes"
      ],
      "execution_count": null,
      "outputs": []
    },
    {
      "cell_type": "code",
      "metadata": {
        "id": "_39gTys_q9cY"
      },
      "source": [
        "def plot_detections(frame, detections, predictions):\n",
        "    for i in range(len(detections)):\n",
        "      bbox = detections[i]\n",
        "      pred = predictions[i]\n",
        "      [x, y, w, h] = bbox\n",
        "      if pred==0: clr=(0,255,0)\n",
        "      else: clr=(0,255,255)\n",
        "\n",
        "      overlay = frame.copy()\n",
        "      cv2.rectangle(overlay, (x, y), (x+w, y+h), clr, -1)\n",
        "      alpha = 0.5\n",
        "      cv2.addWeighted(overlay, alpha, frame, 1 - alpha, 0, frame)\n",
        "    return frame"
      ],
      "execution_count": null,
      "outputs": []
    },
    {
      "cell_type": "markdown",
      "metadata": {
        "id": "HBtNjPQJx_7z"
      },
      "source": [
        "for a scenario"
      ]
    },
    {
      "cell_type": "code",
      "metadata": {
        "id": "MqxN2JdSq9ZW"
      },
      "source": [
        "start = time.time()\n",
        "writer = None\n",
        "(W,H) = (None, None)\n",
        "\n",
        "IMG_SIZE = 100\n",
        "fps = 10\n",
        "out_dir = DATADIR+'scenario/esc_det_output.avi'\n",
        "count = 0\n",
        "\n",
        "for filename in filenames:\n",
        "  frame = cv2.imread(filename)\n",
        "  if W is None or H is None: (H, W) = frame.shape[:2]\n",
        "\n",
        "  detections, _, _ = object_detection(frame)\n",
        "  enl_bboxes = enlarge_bounding_boxes(detections)\n",
        "\n",
        "  x_frame = []\n",
        "  predictions = []\n",
        "\n",
        "  for i in range(len(enl_bboxes)):\n",
        "    bbox = enl_bboxes[i]\n",
        "    [x, y, w, h] = bbox\n",
        "    extracted_frame = frame[y:y+h,x:x+w,:]\n",
        "    img_arr = cv2.resize(extracted_frame, (IMG_SIZE, IMG_SIZE))\n",
        "    x_frame.append(img_arr/255.0)\n",
        "\n",
        "  if x_frame!=[]:\n",
        "    X = np.asarray(x_frame)\n",
        "    predictions = np.rint(loaded_model.predict(X)) #calculate confidence here\n",
        "\n",
        "  frame = plot_detections(frame, detections, predictions)\n",
        "\n",
        "  if writer is None:\n",
        "    fourcc = cv2.VideoWriter_fourcc(*\"MJPG\")\n",
        "    writer = cv2.VideoWriter(out_dir, fourcc, fps, (W,H), True)\n",
        "  writer.write(frame)\n",
        "  print(\"Frame: \", count+1)\n",
        "  count = count+1\n",
        "\n",
        "writer.release()\n",
        "\n",
        "end = time.time()\n",
        "print(\"Total time taken: \", end - start, \"seconds\")"
      ],
      "execution_count": null,
      "outputs": []
    },
    {
      "cell_type": "markdown",
      "metadata": {
        "id": "fdshJx8Tx8LL"
      },
      "source": [
        "for individual unique frames"
      ]
    },
    {
      "cell_type": "code",
      "metadata": {
        "colab": {
          "base_uri": "https://localhost:8080/"
        },
        "id": "zJWvgNevq9W3",
        "outputId": "2c220068-8ac6-4f2a-80c7-9c0af97601ef"
      },
      "source": [
        "IMG_SIZE = 100\n",
        "out_dir = DATADIR+'paper_results/output/'\n",
        "count = 0\n",
        "\n",
        "for filename in filenames:\n",
        "  frame = cv2.imread(filename)\n",
        "  detections, _, _ = object_detection(frame)\n",
        "  enl_bboxes = enlarge_bounding_boxes(detections)\n",
        "\n",
        "  x_frame = []\n",
        "  predictions = []\n",
        "\n",
        "  for i in range(len(enl_bboxes)):\n",
        "    bbox = enl_bboxes[i]\n",
        "    [x, y, w, h] = bbox\n",
        "    extracted_frame = frame[y:y+h,x:x+w,:]\n",
        "    img_arr = cv2.resize(extracted_frame, (IMG_SIZE, IMG_SIZE))\n",
        "    x_frame.append(img_arr/255.0)\n",
        "\n",
        "  if x_frame!=[]:\n",
        "    X = np.asarray(x_frame)\n",
        "    predictions = np.rint(loaded_model.predict(X)) #calculate confidence here\n",
        "\n",
        "  frame = plot_detections(frame, detections, predictions)\n",
        "\n",
        "  # save the frame\n",
        "  # im = Image.fromarray(frame)  \n",
        "  if not os.path.exists(out_dir):\n",
        "    os.makedirs(out_dir)\n",
        "  fnm = out_dir + re.split('/',filename)[-1]\n",
        "  # im.save(fnm)\n",
        "  cv2.imwrite(fnm, frame)\n",
        "  print(\"Frame: \", count+1)\n",
        "  count = count+1"
      ],
      "execution_count": null,
      "outputs": [
        {
          "output_type": "stream",
          "text": [
            "Frame:  1\n",
            "Frame:  2\n",
            "Frame:  3\n",
            "Frame:  4\n",
            "Frame:  5\n",
            "Frame:  6\n",
            "Frame:  7\n",
            "Frame:  8\n",
            "Frame:  9\n",
            "Frame:  10\n",
            "Frame:  11\n",
            "Frame:  12\n",
            "Frame:  13\n",
            "Frame:  14\n",
            "Frame:  15\n",
            "Frame:  16\n",
            "Frame:  17\n",
            "Frame:  18\n",
            "Frame:  19\n",
            "Frame:  20\n",
            "Frame:  21\n",
            "Frame:  22\n",
            "Frame:  23\n",
            "Frame:  24\n",
            "Frame:  25\n",
            "Frame:  26\n",
            "Frame:  27\n",
            "Frame:  28\n",
            "Frame:  29\n",
            "Frame:  30\n",
            "Frame:  31\n",
            "Frame:  32\n",
            "Frame:  33\n",
            "Frame:  34\n",
            "Frame:  35\n",
            "Frame:  36\n",
            "Frame:  37\n",
            "Frame:  38\n",
            "Frame:  39\n",
            "Frame:  40\n",
            "Frame:  41\n",
            "Frame:  42\n",
            "Frame:  43\n",
            "Frame:  44\n",
            "Frame:  45\n",
            "Frame:  46\n",
            "Frame:  47\n",
            "Frame:  48\n",
            "Frame:  49\n",
            "Frame:  50\n",
            "Frame:  51\n",
            "Frame:  52\n",
            "Frame:  53\n",
            "Frame:  54\n",
            "Frame:  55\n"
          ],
          "name": "stdout"
        }
      ]
    },
    {
      "cell_type": "code",
      "metadata": {
        "colab": {
          "base_uri": "https://localhost:8080/",
          "height": 35
        },
        "id": "Fz3_wjrPo0xn",
        "outputId": "d2d97f4a-3609-4d0a-fefa-4c623c6ef2bf"
      },
      "source": [
        "# filename\n",
        "re.split('/',filename)[-1]"
      ],
      "execution_count": null,
      "outputs": [
        {
          "output_type": "execute_result",
          "data": {
            "application/vnd.google.colaboratory.intrinsic+json": {
              "type": "string"
            },
            "text/plain": [
              "'frame_34_1601148902071558987.jpg'"
            ]
          },
          "metadata": {
            "tags": []
          },
          "execution_count": 21
        }
      ]
    },
    {
      "cell_type": "code",
      "metadata": {
        "id": "1C0ycVfBzVzj"
      },
      "source": [
        ""
      ],
      "execution_count": null,
      "outputs": []
    }
  ]
}